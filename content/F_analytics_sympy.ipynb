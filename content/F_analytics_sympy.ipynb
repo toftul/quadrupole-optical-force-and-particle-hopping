{
 "cells": [
  {
   "cell_type": "code",
   "execution_count": 1,
   "id": "2c3081c1-2e29-4810-bb86-97efa98a1246",
   "metadata": {},
   "outputs": [],
   "source": [
    "import numpy as np\n",
    "import sympy as sp\n",
    "import matplotlib.pyplot as plt\n",
    "\n",
    "plt.rcdefaults()  # reset to default\n",
    "plt.style.use('phys-plots.mplstyle')"
   ]
  },
  {
   "cell_type": "code",
   "execution_count": 26,
   "id": "0f6bf4dc-b048-4fc1-af9f-13b15f3d7a56",
   "metadata": {},
   "outputs": [],
   "source": [
    "x, y, z, w0, k = sp.symbols('x,y,z,w0,k', real=True)\n",
    "mm = sp.symbols('mm')\n",
    "\n",
    "alpha_e, alpha_m, alpha_Qe, alpha_Qm = sp.symbols('alpha_e, alpha_m, alpha_Qe, alpha_Qm', real=True)\n",
    "\n",
    "# A = 0\n",
    "alpha_e = 0\n",
    "alpha_m = 0\n",
    "\n",
    "# C = 0\n",
    "# alpha_Qm = -2*alpha_Qe\n",
    "\n",
    "# B = 0\n",
    "alpha_Qe = -2*alpha_Qm\n",
    "\n",
    "\n",
    "IMalpha_e, IMalpha_m, IMalpha_Qe, IMalpha_Qm = sp.symbols('IMalpha_e, IMalpha_m, IMalpha_Qe, IMalpha_Qm', real=True)\n",
    "\n",
    "epsilon, mu, A = sp.symbols('epsilon, mu, A', positive=True)\n",
    "\n",
    "E0 = A/sp.sqrt(epsilon)\n",
    "H0 = A/sp.sqrt(mu)\n",
    "\n",
    "# alpha_e = sp.I * IMalpha_e\n",
    "# alpha_m = sp.I * IMalpha_m\n",
    "# alpha_Qe = sp.I * IMalpha_Qe\n",
    "# alpha_Qm = sp.I * IMalpha_Qm\n",
    "#alpha_Qm\n",
    "\n",
    "coords = [x, y, z]\n",
    "\n",
    "i, j, p = sp.symbols('i, j, p', integer=True)\n",
    "\n",
    "#w0 = 1\n",
    "mm = 0\n",
    "\n",
    "z0 = k * w0**2 / 2\n",
    "w = w0 * sp.sqrt(1 + z**2 / z0**2)\n",
    "Rinv = z / (z**2 + z0**2)\n",
    "\n",
    "eta = sp.atan2(z, z0)\n",
    "\n",
    "#gauss_parax = w0/w * sp.exp( -(x**2 + y**2)/w**2 ) * sp.exp(1j * (k * z - eta + k*(x**2 + y**2) / 2 * Rinv)) \n",
    "gauss_parax = sp.exp( -(x**2 + y**2)/w0**2 )\n",
    "\n",
    "ux = 1 / sp.sqrt(1 + sp.Abs(mm)**2)\n",
    "uy = mm / sp.sqrt(1 + sp.Abs(mm)**2)\n",
    "\n",
    "\n",
    "E = [E0 * ux * gauss_parax, E0 * uy * gauss_parax, 0]\n",
    "\n",
    "umagpol = [-uy, ux, 0]\n",
    "H = [H0 * umagpol[0] * gauss_parax, H0 * umagpol[1] * gauss_parax, 0]\n",
    "\n",
    "\n",
    "def eps(i, j, k):\n",
    "    return sp.LeviCivita(i, j, k)\n",
    "\n",
    "\n",
    "e = [epsilon*alpha_e * E[0], epsilon*alpha_e * E[1], epsilon*alpha_e * E[2]]\n",
    "m = [mu*alpha_m * H[0], mu*alpha_m * H[1], mu*alpha_m * H[2]]\n",
    "\n",
    "Qe = [\n",
    "    [epsilon*alpha_Qe * 1/2 * (sp.diff(E[i], coords[j]) + sp.diff(E[j], coords[i]))\n",
    "     for i in range(3)]\n",
    "     for j in range(3)\n",
    "]\n",
    "\n",
    "Qm = [\n",
    "    [mu*alpha_Qm * 1/2 * (sp.diff(H[i], coords[j]) + sp.diff(H[j], coords[i]))\n",
    "     for i in range(3)]\n",
    "     for j in range(3)\n",
    "]\n",
    "\n",
    "\n",
    "# ∇_i E_j\n",
    "grad_E = [[sp.diff(E[j], coords[i]) \n",
    "      for j in range(3)]\n",
    "      for i in range(3)]\n",
    "\n",
    "# ∇_i H_j\n",
    "grad_H = [[sp.diff(H[j], coords[i]) \n",
    "      for j in range(3)]\n",
    "      for i in range(3)]\n",
    "\n",
    "\n",
    "# ∇_i ∇_j E_p\n",
    "grad_grad_E = [[[sp.diff(E[p], coords[i], coords[j]) for p in range(3)]\n",
    "      for j in range(3)]\n",
    "      for i in range(3)]\n",
    "\n",
    "# ∇_i ∇_j H_p\n",
    "grad_grad_H = [[[sp.diff(H[p], coords[i], coords[j]) for p in range(3)]\n",
    "      for j in range(3)]\n",
    "      for i in range(3)]\n",
    "\n",
    "\n",
    "\n",
    "# Electric dipole force\n",
    "# Fe_i = Re[e_j^* ∇_i E_j]\n",
    "Fe = [sp.re(sum(sp.conjugate(e[j]) * grad_E[i][j] for j in range(3))) for i in range(3)]\n",
    "\n",
    "# Magnetic dipole force\n",
    "# Fm_i = Re[m_j^* ∇_i H_j]\n",
    "Fm = [sp.re(sum(sp.conjugate(m[j]) * grad_H[i][j] for j in range(3))) for i in range(3)]\n",
    "\n",
    "# Electric-magnetic recoil\n",
    "# Fem_i = -k^4/(12π) Re[ε_ijk e_j^* m_k]\n",
    "Fem = [-k**4/(12*sp.pi) * sp.re(sum(eps(i, j, k) * sp.conjugate(e[j]) * m[k] for j in range(3) for k in range(3))) for i in range(3)]\n",
    "\n",
    "# Electric dipole-quadrupole \n",
    "# FeQe_i = k^5/(40π) Im[Qe_ij^* e_j]\n",
    "FeQe = [k**5/(40*sp.pi) * sp.im(sum(sp.conjugate(Qe[i][j]) * e[j] for j in range(3))) for i in range(3)]\n",
    "\n",
    "# Magentic dipole-quadrupole \n",
    "# FmQm_i = k^5/(40π) Im[Qm_ij^* m_j]\n",
    "FmQm = [k**5/(40*sp.pi) * sp.im(sum(sp.conjugate(Qm[i][j]) * m[j] for j in range(3))) for i in range(3)]\n",
    "\n",
    "\n",
    "# Quadrupole-quadrupole\n",
    "# FQeQm_i = -k^6/(250π) Re[ε_ijk Qe_lj^* Qm_lk]\n",
    "FQeQm = [-k**6/(250*sp.pi) * sp.re(sum(eps(i, j, k) * sp.conjugate(Qe[l][j]) * Qm[l][k] for j in range(3) for k in range(3) for l in range(3))) for i in range(3)]\n",
    "\n",
    "# Electric quadrupole force\n",
    "# FQe_i = 1/4 Re[Qe_jk^* ∇_i ∇_k E_j]\n",
    "FQe = [1/4 * sp.re(sum(sp.conjugate(Qe[j][k]) * grad_grad_E[i][k][j] for j in range(3) for k in range(3))) for i in range(3)]\n",
    "\n",
    "# Magnetic quadrupole force\n",
    "# FQm_i = 1/4 Re[Qm_jk^* ∇_i ∇_k H_j]\n",
    "FQm = [1/4 * sp.re(sum(sp.conjugate(Qm[j][k]) * grad_grad_H[i][k][j] for j in range(3) for k in range(3))) for i in range(3)]"
   ]
  },
  {
   "cell_type": "code",
   "execution_count": 28,
   "id": "c706605c-e2c9-4599-b9d9-27d67dee81df",
   "metadata": {},
   "outputs": [
    {
     "data": {
      "text/latex": [
       "$\\displaystyle 0.5 - \\frac{1.0 x^{2}}{w_{0}^{2}}$"
      ],
      "text/plain": [
       "0.5 - 1.0*x**2/w0**2"
      ]
     },
     "execution_count": 28,
     "metadata": {},
     "output_type": "execute_result"
    }
   ],
   "source": [
    "AA = 2/w0**3 * (alpha_e + alpha_m)\n",
    "BB = (alpha_Qe + 2*alpha_Qm) / w0**5\n",
    "CC = (2*alpha_Qe + alpha_Qm) / w0**5\n",
    "\n",
    "\n",
    "sp.simplify((Fe[0] + Fm[0] + FQe[0] + FQm[0])/(x/w0 * U0/w0 * CC * sp.exp( -2*(x**2 + y**2)/w0**2 )))"
   ]
  },
  {
   "cell_type": "code",
   "execution_count": 14,
   "id": "c138ddb5-3d58-4743-8aa3-e4aa70cd2ea6",
   "metadata": {},
   "outputs": [],
   "source": [
    "U0 = w0**3 * A**2\n",
    "\n",
    "AA = 2/w0**3 * (alpha_e + alpha_m)\n",
    "AA, BB, CC = sp.symbols('AA BB CC')"
   ]
  },
  {
   "cell_type": "code",
   "execution_count": 15,
   "id": "e90e91b8-98a4-49fb-832b-f958fae690e6",
   "metadata": {},
   "outputs": [
    {
     "data": {
      "text/latex": [
       "$\\displaystyle \\frac{1.0 x \\left(1.0 \\alpha_{Qe} w_{0}^{2} - 2.0 \\alpha_{Qe} x^{2} - 1.0 \\alpha_{Qe} y^{2} + 0.5 \\alpha_{Qm} w_{0}^{2} - 1.0 \\alpha_{Qm} x^{2} - 2.0 \\alpha_{Qm} y^{2} - 2.0 \\alpha_{e} w_{0}^{4} - 2.0 \\alpha_{m} w_{0}^{4}\\right)}{w_{0}^{9}}$"
      ],
      "text/plain": [
       "1.0*x*(1.0*alpha_Qe*w0**2 - 2.0*alpha_Qe*x**2 - 1.0*alpha_Qe*y**2 + 0.5*alpha_Qm*w0**2 - 1.0*alpha_Qm*x**2 - 2.0*alpha_Qm*y**2 - 2.0*alpha_e*w0**4 - 2.0*alpha_m*w0**4)/w0**9"
      ]
     },
     "execution_count": 15,
     "metadata": {},
     "output_type": "execute_result"
    }
   ],
   "source": [
    "expr = sp.simplify((Fe[0] + Fm[0] + FQe[0] + FQm[0])/(U0 * sp.exp( -2*(x**2 + y**2)/w0**2 )))\n",
    "expr"
   ]
  },
  {
   "cell_type": "code",
   "execution_count": 17,
   "id": "cdd32684-006a-445f-9cc9-ae1e3334c434",
   "metadata": {},
   "outputs": [
    {
     "data": {
      "text/latex": [
       "$\\displaystyle \\frac{1.0 x \\left(1.0 \\alpha_{Qe} w_{0}^{2} - 2.0 \\alpha_{Qe} x^{2} - 1.0 \\alpha_{Qe} y^{2} + 0.5 \\alpha_{Qm} w_{0}^{2} - 1.0 \\alpha_{Qm} x^{2} - 2.0 \\alpha_{Qm} y^{2} - 2.0 \\alpha_{e} w_{0}^{4} - 2.0 \\alpha_{m} w_{0}^{4}\\right)}{w_{0}^{9}}$"
      ],
      "text/plain": [
       "1.0*x*(1.0*alpha_Qe*w0**2 - 2.0*alpha_Qe*x**2 - 1.0*alpha_Qe*y**2 + 0.5*alpha_Qm*w0**2 - 1.0*alpha_Qm*x**2 - 2.0*alpha_Qm*y**2 - 2.0*alpha_e*w0**4 - 2.0*alpha_m*w0**4)/w0**9"
      ]
     },
     "execution_count": 17,
     "metadata": {},
     "output_type": "execute_result"
    }
   ],
   "source": [
    "expr.subs((alpha_e + alpha_m), AA)"
   ]
  },
  {
   "cell_type": "code",
   "execution_count": null,
   "id": "7e776920-a3c1-4f17-ad6b-5f902db88b72",
   "metadata": {},
   "outputs": [],
   "source": []
  }
 ],
 "metadata": {
  "kernelspec": {
   "display_name": "Python 3 (ipykernel)",
   "language": "python",
   "name": "python3"
  },
  "language_info": {
   "codemirror_mode": {
    "name": "ipython",
    "version": 3
   },
   "file_extension": ".py",
   "mimetype": "text/x-python",
   "name": "python",
   "nbconvert_exporter": "python",
   "pygments_lexer": "ipython3",
   "version": "3.11.2"
  }
 },
 "nbformat": 4,
 "nbformat_minor": 5
}
